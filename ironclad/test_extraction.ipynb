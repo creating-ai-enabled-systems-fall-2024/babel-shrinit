{
 "cells": [
  {
   "cell_type": "code",
   "execution_count": 5,
   "metadata": {},
   "outputs": [],
   "source": [
    "# test_extraction.py\n",
    "\n",
    "from modules.extraction.processing import Preprocessor\n",
    "from modules.extraction.embedding import EmbeddingExtractor\n",
    "\n",
    "from modules.retrieval.index import EmbeddingIndex\n",
    "from modules.retrieval.search import Searcher\n"
   ]
  },
  {
   "cell_type": "code",
   "execution_count": null,
   "metadata": {},
   "outputs": [],
   "source": [
    "# !pip install facenet-pytorch\n",
    "# import sys\n",
    "# !{sys.executable} -m pip install facenet-pytorch"
   ]
  },
  {
   "cell_type": "code",
   "execution_count": 2,
   "metadata": {},
   "outputs": [],
   "source": [
    "\n",
    "# Initialize preprocessor and embedding extractor\n",
    "preprocessor = Preprocessor()\n",
    "extractor = EmbeddingExtractor(model_name='casia-webface')\n",
    "# Test with a sample image\n",
    "\n"
   ]
  },
  {
   "cell_type": "code",
   "execution_count": 4,
   "metadata": {},
   "outputs": [
    {
     "name": "stdout",
     "output_type": "stream",
     "text": [
      "Preprocessed Image Shape: torch.Size([3, 160, 160])\n",
      "Extracted Embedding Shape: torch.Size([512])\n"
     ]
    }
   ],
   "source": [
    "from PIL import Image\n",
    "\n",
    "image_path = 'simclr_resources\\probe\\Abdullah\\Abdullah_0002.jpg'  # Replace with a real image path\n",
    "\n",
    "preprocessed_image = preprocessor.preprocess(image_path)\n",
    "embedding = extractor.extract(preprocessed_image)\n",
    "\n",
    "print(\"Preprocessed Image Shape:\", preprocessed_image.shape)\n",
    "print(\"Extracted Embedding Shape:\", embedding.shape)  # Should be (512,)\n",
    "\n"
   ]
  },
  {
   "cell_type": "code",
   "execution_count": 6,
   "metadata": {},
   "outputs": [],
   "source": [
    "\n",
    "# test_retrieval.py\n",
    "\n",
    "import os\n",
    "\n",
    "# Paths\n",
    "gallery_dir = 'storage/gallery'\n",
    "probe_image_path = 'simclr_resources/probe/Abdullah\\Abdullah_0002.jpg'\n",
    "catalog_dir = 'storage/catalog'\n",
    "\n",
    "# Initialize components\n",
    "# preprocessor = Preprocessor()\n",
    "# extractor = EmbeddingExtractor(model_name='casia-webface')\n",
    "embedding_index = EmbeddingIndex(dimension=512)\n",
    "searcher = Searcher(embedding_index)\n",
    "\n",
    "# Index all gallery images\n",
    "for person_folder in os.listdir(gallery_dir):\n",
    "    folder_path = os.path.join(gallery_dir, person_folder)\n",
    "    if os.path.isdir(folder_path):\n",
    "        for image_file in os.listdir(folder_path):\n",
    "            image_path = os.path.join(folder_path, image_file)\n",
    "            preprocessed_image = preprocessor.preprocess(image_path)\n",
    "            embedding = extractor.extract(preprocessed_image)\n",
    "            embedding_index.add(embedding, image_path)\n",
    "\n",
    "# Save the index\n",
    "embedding_index.save(catalog_dir)\n"
   ]
  },
  {
   "cell_type": "code",
   "execution_count": 7,
   "metadata": {},
   "outputs": [
    {
     "name": "stdout",
     "output_type": "stream",
     "text": [
      "Nearest neighbors:\n",
      "Image Path: storage/gallery\\Abdullah\\Abdullah_0003.jpg, Distance: 0.4168059825897217\n",
      "Image Path: storage/gallery\\Paul_Bremer\\Paul_Bremer_0010.jpg, Distance: 0.45640718936920166\n",
      "Image Path: storage/gallery\\Alejandro_Toledo\\Alejandro_Toledo_0010.jpg, Distance: 0.48411980271339417\n",
      "Image Path: storage/gallery\\John_Kerry\\John_Kerry_0005.jpg, Distance: 0.48846742510795593\n",
      "Image Path: storage/gallery\\Mike_Weir\\Mike_Weir_0006.jpg, Distance: 0.5392659306526184\n"
     ]
    }
   ],
   "source": [
    "\n",
    "# Load the index and perform a search\n",
    "embedding_index.load(catalog_dir)\n",
    "probe_preprocessed = preprocessor.preprocess(probe_image_path)\n",
    "probe_embedding = extractor.extract(probe_preprocessed)\n",
    "results = searcher.search(probe_embedding, k=5)\n",
    "\n",
    "# Display results\n",
    "print(\"Nearest neighbors:\")\n",
    "for result in results:\n",
    "    print(f\"Image Path: {result['image_path']}, Distance: {result['distance']}\")\n"
   ]
  }
 ],
 "metadata": {
  "kernelspec": {
   "display_name": "Python 3",
   "language": "python",
   "name": "python3"
  },
  "language_info": {
   "codemirror_mode": {
    "name": "ipython",
    "version": 3
   },
   "file_extension": ".py",
   "mimetype": "text/x-python",
   "name": "python",
   "nbconvert_exporter": "python",
   "pygments_lexer": "ipython3",
   "version": "3.9.13"
  }
 },
 "nbformat": 4,
 "nbformat_minor": 2
}
